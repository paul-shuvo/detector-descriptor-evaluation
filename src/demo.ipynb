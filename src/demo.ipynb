{
 "cells": [
  {
   "cell_type": "code",
   "execution_count": 1,
   "metadata": {
    "collapsed": true
   },
   "outputs": [
    {
     "data": {
      "text/plain": "'D:\\\\Programming Projects\\\\python projects\\\\state-of-the-binary-descriptor\\\\src'"
     },
     "execution_count": 1,
     "metadata": {},
     "output_type": "execute_result"
    }
   ],
   "source": [
    "import os\n",
    "os.getcwd()"
   ]
  },
  {
   "cell_type": "code",
   "execution_count": 2,
   "outputs": [
    {
     "name": "stdout",
     "output_type": "stream",
     "text": [
      "{'AGAST': <class 'cv2.AgastFeatureDetector'>, 'KAZE': <class 'cv2.KAZE'>, 'AKAZE': <class 'cv2.AKAZE'>, 'FAST': <class 'cv2.FastFeatureDetector'>, 'BRISK': <class 'cv2.BRISK'>, 'ORB': <class 'cv2.ORB'>, 'GFTT': <class 'cv2.GFTTDetector'>, 'HarrisLaplace': <class 'cv2.xfeatures2d_HarrisLaplaceFeatureDetector'>, 'StarDetector': <class 'cv2.xfeatures2d_StarDetector'>}\n"
     ]
    }
   ],
   "source": [
    "from src import detector_descriptor as dd\n",
    "from src import data\n",
    "\n",
    "images = data.load_data('../')\n",
    "all_detectors = dd.get_all_detectors()\n",
    "print(all_detectors)"
   ],
   "metadata": {
    "collapsed": false,
    "pycharm": {
     "name": "#%%\n"
    }
   }
  }
 ],
 "metadata": {
  "kernelspec": {
   "display_name": "Python 3",
   "language": "python",
   "name": "python3"
  },
  "language_info": {
   "codemirror_mode": {
    "name": "ipython",
    "version": 2
   },
   "file_extension": ".py",
   "mimetype": "text/x-python",
   "name": "python",
   "nbconvert_exporter": "python",
   "pygments_lexer": "ipython2",
   "version": "2.7.6"
  }
 },
 "nbformat": 4,
 "nbformat_minor": 0
}
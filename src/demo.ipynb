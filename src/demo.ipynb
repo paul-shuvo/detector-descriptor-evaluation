{
 "cells": [
  {
   "cell_type": "markdown",
   "metadata": {},
   "source": [
    "### Import libraries and modules"
   ]
  },
  {
   "cell_type": "code",
   "execution_count": 4,
   "metadata": {},
   "outputs": [],
   "source": [
    "import os\n",
    "os.chdir('..')\n",
    "from matplotlib import pyplot as plt\n",
    "import numpy as np\n",
    "from timeit import default_timer\n",
    "import pandas as pd\n",
    "import seaborn as sns\n",
    "from src import detector_descriptor as dd\n",
    "from src import data as dt\n",
    "from src import util\n",
    "import yaml\n"
   ]
  },
  {
   "cell_type": "markdown",
   "metadata": {},
   "source": [
    "__Load configuration__"
   ]
  },
  {
   "cell_type": "code",
   "execution_count": 6,
   "metadata": {},
   "outputs": [],
   "source": [
    "with open(os.path.join('./', 'config.yml'), 'r') as ymlfile:\n",
    "    cfg = yaml.load(ymlfile, Loader=yaml.FullLoader)\n",
    "    cfg = cfg['default']"
   ]
  },
  {
   "cell_type": "markdown",
   "metadata": {
    "pycharm": {
     "name": "#%% md\n"
    }
   },
   "source": [
    "#### Methods and variables for image dataset"
   ]
  },
  {
   "cell_type": "code",
   "execution_count": 25,
   "metadata": {},
   "outputs": [],
   "source": [
    "image_set_variance = {\n",
    "    'bark': 'zoom_rotation', \n",
    "    'boat': 'zoom_rotation',\n",
    "    'leuven': 'light',\n",
    "    'bikes': 'blur', \n",
    "    'trees': 'blur',\n",
    "    'wall': 'viewpoint',\n",
    "    'graf': 'viewpoint',\n",
    "    'ubc': 'jpeg-compression'\n",
    "}\n",
    "\n"
   ]
  },
  {
   "cell_type": "markdown",
   "metadata": {
    "pycharm": {
     "name": "#%% md\n"
    }
   },
   "source": [
    "##### Show all images from an image set"
   ]
  },
  {
   "cell_type": "code",
   "execution_count": 26,
   "metadata": {
    "pycharm": {
     "name": "#%%\n"
    }
   },
   "outputs": [
    {
     "ename": "FileNotFoundError",
     "evalue": "[Errno 2] No such file or directory: 'D:\\\\Programming Projects\\\\python projects\\\\dataset\\\\pickle_dump\\\\oxford.pckl'",
     "output_type": "error",
     "traceback": [
      "\u001b[1;31m---------------------------------------------------------------------------\u001b[0m",
      "\u001b[1;31mFileNotFoundError\u001b[0m                         Traceback (most recent call last)",
      "\u001b[1;32m<ipython-input-26-a926c7c13c94>\u001b[0m in \u001b[0;36m<module>\u001b[1;34m\u001b[0m\n\u001b[0;32m      1\u001b[0m \u001b[1;31m# all_detectors = dd.get_all_detectors()\u001b[0m\u001b[1;33m\u001b[0m\u001b[1;33m\u001b[0m\u001b[1;33m\u001b[0m\u001b[0m\n\u001b[0;32m      2\u001b[0m \u001b[1;31m# print(list(all_detectors.keys()))\u001b[0m\u001b[1;33m\u001b[0m\u001b[1;33m\u001b[0m\u001b[1;33m\u001b[0m\u001b[0m\n\u001b[1;32m----> 3\u001b[1;33m \u001b[0mimages\u001b[0m \u001b[1;33m=\u001b[0m \u001b[0mget_image_set\u001b[0m\u001b[1;33m(\u001b[0m\u001b[1;34m'bikes'\u001b[0m\u001b[1;33m)\u001b[0m\u001b[1;33m\u001b[0m\u001b[1;33m\u001b[0m\u001b[0m\n\u001b[0m\u001b[0;32m      4\u001b[0m \u001b[0mshow_image_set\u001b[0m\u001b[1;33m(\u001b[0m\u001b[0mimages\u001b[0m\u001b[1;33m)\u001b[0m\u001b[1;33m\u001b[0m\u001b[1;33m\u001b[0m\u001b[0m\n\u001b[0;32m      5\u001b[0m \u001b[1;33m\u001b[0m\u001b[0m\n",
      "\u001b[1;32m<ipython-input-25-f8c5c6bd1f4b>\u001b[0m in \u001b[0;36mget_image_set\u001b[1;34m(image_prefix)\u001b[0m\n\u001b[0;32m     12\u001b[0m \u001b[1;33m\u001b[0m\u001b[0m\n\u001b[0;32m     13\u001b[0m \u001b[1;32mdef\u001b[0m \u001b[0mget_image_set\u001b[0m\u001b[1;33m(\u001b[0m\u001b[0mimage_prefix\u001b[0m\u001b[1;33m=\u001b[0m\u001b[1;34m'all'\u001b[0m\u001b[1;33m)\u001b[0m\u001b[1;33m:\u001b[0m\u001b[1;33m\u001b[0m\u001b[1;33m\u001b[0m\u001b[0m\n\u001b[1;32m---> 14\u001b[1;33m     \u001b[0mall_images\u001b[0m \u001b[1;33m=\u001b[0m \u001b[0mdata\u001b[0m\u001b[1;33m.\u001b[0m\u001b[0mload_data\u001b[0m\u001b[1;33m(\u001b[0m\u001b[0mos\u001b[0m\u001b[1;33m.\u001b[0m\u001b[0mpath\u001b[0m\u001b[1;33m.\u001b[0m\u001b[0mjoin\u001b[0m\u001b[1;33m(\u001b[0m\u001b[0mos\u001b[0m\u001b[1;33m.\u001b[0m\u001b[0mgetcwd\u001b[0m\u001b[1;33m(\u001b[0m\u001b[1;33m)\u001b[0m\u001b[1;33m,\u001b[0m \u001b[1;34m'dataset'\u001b[0m\u001b[1;33m,\u001b[0m \u001b[1;34m'pickle_dump'\u001b[0m\u001b[1;33m,\u001b[0m \u001b[1;34m'oxford.pckl'\u001b[0m\u001b[1;33m)\u001b[0m\u001b[1;33m)\u001b[0m\u001b[1;33m\u001b[0m\u001b[1;33m\u001b[0m\u001b[0m\n\u001b[0m\u001b[0;32m     15\u001b[0m     \u001b[1;32mif\u001b[0m \u001b[0mimage_prefix\u001b[0m \u001b[1;32mis\u001b[0m \u001b[1;34m'all'\u001b[0m\u001b[1;33m:\u001b[0m\u001b[1;33m\u001b[0m\u001b[1;33m\u001b[0m\u001b[0m\n\u001b[0;32m     16\u001b[0m         \u001b[1;32mreturn\u001b[0m \u001b[0mall_images\u001b[0m\u001b[1;33m\u001b[0m\u001b[1;33m\u001b[0m\u001b[0m\n",
      "\u001b[1;32mD:\\Programming Projects\\python projects\\state-of-the-binary-descriptor\\src\\data.py\u001b[0m in \u001b[0;36mload_data\u001b[1;34m(path)\u001b[0m\n\u001b[0;32m     60\u001b[0m \u001b[1;33m\u001b[0m\u001b[0m\n\u001b[0;32m     61\u001b[0m \u001b[1;32mdef\u001b[0m \u001b[0mload_data\u001b[0m\u001b[1;33m(\u001b[0m\u001b[0mpath\u001b[0m\u001b[1;33m)\u001b[0m\u001b[1;33m:\u001b[0m\u001b[1;33m\u001b[0m\u001b[1;33m\u001b[0m\u001b[0m\n\u001b[1;32m---> 62\u001b[1;33m     \u001b[1;32mwith\u001b[0m \u001b[0mopen\u001b[0m\u001b[1;33m(\u001b[0m\u001b[0mpath\u001b[0m\u001b[1;33m,\u001b[0m \u001b[1;34m'rb'\u001b[0m\u001b[1;33m)\u001b[0m \u001b[1;32mas\u001b[0m \u001b[0mfile\u001b[0m\u001b[1;33m:\u001b[0m\u001b[1;33m\u001b[0m\u001b[1;33m\u001b[0m\u001b[0m\n\u001b[0m\u001b[0;32m     63\u001b[0m         \u001b[1;32mreturn\u001b[0m \u001b[0mpkl\u001b[0m\u001b[1;33m.\u001b[0m\u001b[0mload\u001b[0m\u001b[1;33m(\u001b[0m\u001b[0mfile\u001b[0m\u001b[1;33m)\u001b[0m\u001b[1;33m\u001b[0m\u001b[1;33m\u001b[0m\u001b[0m\n\u001b[0;32m     64\u001b[0m \u001b[1;33m\u001b[0m\u001b[0m\n",
      "\u001b[1;31mFileNotFoundError\u001b[0m: [Errno 2] No such file or directory: 'D:\\\\Programming Projects\\\\python projects\\\\dataset\\\\pickle_dump\\\\oxford.pckl'"
     ]
    }
   ],
   "source": [
    "# all_detectors = dd.get_all_detectors()\n",
    "# print(list(all_detectors.keys()))\n",
    "images = get_image_set('bikes')\n",
    "show_image_set(images)"
   ]
  },
  {
   "cell_type": "markdown",
   "metadata": {},
   "source": [
    "#### Methods for feature detectors"
   ]
  },
  {
   "cell_type": "code",
   "execution_count": 27,
   "metadata": {
    "pycharm": {
     "name": "#%%\n"
    }
   },
   "outputs": [],
   "source": [
    "def get_exec_time_keypoints(img):\n",
    "    keypoints_by_detector = dict()\n",
    "    execution_time = dict()\n",
    "    all_detectors = dd.get_all_detectors()\n",
    "\n",
    "    for name, _ in all_detectors.items():\n",
    "        detector = dd.initialize_detector(name)\n",
    "        start_time = default_timer()\n",
    "        keypoints = detector.detect(img)\n",
    "        execution_time[name] = default_timer() - start_time\n",
    "        keypoints_by_detector[name] = keypoints\n",
    "    return execution_time, keypoints_by_detector\n",
    "# dd.print_dictionary(execution_time)\n",
    "\n",
    "def get_exec_time_keypoints_det(image_set, detector_name):\n",
    "    detector = dd.initialize_detector(detector_name)\n",
    "    keypoints_by_image = dict()\n",
    "    execution_time = dict()\n",
    "    i = 0\n",
    "    for image in image_set.values():\n",
    "        start_time = default_timer()\n",
    "        keypoints = detector.detect(image)\n",
    "        execution_time[i] = default_timer() - start_time\n",
    "        keypoints_by_image[i] = keypoints\n",
    "        i += 1\n",
    "    return execution_time, keypoints_by_image\n",
    "\n",
    "def get_avg_exec_time_total_kp(image_set):\n",
    "    avg_keypoints_by_detector = dict()\n",
    "    avg_execution_time = dict()\n",
    "    all_detectors = dd.get_all_detectors()\n",
    "    num_images = len(image_set.values())\n",
    "    for detector_name in all_detectors:\n",
    "        avg_keypoints_by_detector[detector_name] = 0\n",
    "        avg_execution_time[detector_name] = 0\n",
    "    for img in image_set.values():\n",
    "        execution_time, keypoints_by_detector = get_exec_time_keypoints(img)\n",
    "        for detector_name in all_detectors:\n",
    "            avg_keypoints_by_detector[detector_name] += len(keypoints_by_detector[detector_name])\n",
    "            avg_execution_time[detector_name] += execution_time[detector_name]\n",
    "    for detector_name in all_detectors:\n",
    "        avg_keypoints_by_detector[detector_name] = avg_keypoints_by_detector[detector_name]//num_images\n",
    "        avg_execution_time[detector_name] = avg_execution_time[detector_name]/num_images\n",
    "    \n",
    "    return avg_execution_time, avg_keypoints_by_detector"
   ]
  },
  {
   "cell_type": "markdown",
   "metadata": {},
   "source": [
    "#### Visualize total number of keypoints vs execution time for corresponding detectors"
   ]
  },
  {
   "cell_type": "code",
   "execution_count": 28,
   "metadata": {
    "pycharm": {
     "name": "#%%\n"
    }
   },
   "outputs": [
    {
     "ename": "FileNotFoundError",
     "evalue": "[Errno 2] No such file or directory: 'D:\\\\Programming Projects\\\\python projects\\\\dataset\\\\pickle_dump\\\\oxford.pckl'",
     "output_type": "error",
     "traceback": [
      "\u001b[1;31m---------------------------------------------------------------------------\u001b[0m",
      "\u001b[1;31mFileNotFoundError\u001b[0m                         Traceback (most recent call last)",
      "\u001b[1;32m<ipython-input-28-ae7ce62a3a68>\u001b[0m in \u001b[0;36m<module>\u001b[1;34m\u001b[0m\n\u001b[1;32m----> 1\u001b[1;33m \u001b[0mimages\u001b[0m \u001b[1;33m=\u001b[0m \u001b[0mget_image_set\u001b[0m\u001b[1;33m(\u001b[0m\u001b[1;34m'trees'\u001b[0m\u001b[1;33m)\u001b[0m\u001b[1;33m\u001b[0m\u001b[1;33m\u001b[0m\u001b[0m\n\u001b[0m\u001b[0;32m      2\u001b[0m \u001b[0mimg\u001b[0m \u001b[1;33m=\u001b[0m \u001b[0mimages\u001b[0m\u001b[1;33m[\u001b[0m\u001b[1;34m'trees_img1'\u001b[0m\u001b[1;33m]\u001b[0m\u001b[1;33m\u001b[0m\u001b[1;33m\u001b[0m\u001b[0m\n\u001b[0;32m      3\u001b[0m \u001b[0mexecution_time\u001b[0m\u001b[1;33m,\u001b[0m \u001b[0mkeypoints_by_detector\u001b[0m \u001b[1;33m=\u001b[0m \u001b[0mget_exec_time_keypoints\u001b[0m\u001b[1;33m(\u001b[0m\u001b[0mimg\u001b[0m\u001b[1;33m)\u001b[0m\u001b[1;33m\u001b[0m\u001b[1;33m\u001b[0m\u001b[0m\n\u001b[0;32m      4\u001b[0m \u001b[0mfig\u001b[0m \u001b[1;33m=\u001b[0m \u001b[0mplt\u001b[0m\u001b[1;33m.\u001b[0m\u001b[0mfigure\u001b[0m\u001b[1;33m(\u001b[0m\u001b[1;33m)\u001b[0m\u001b[1;33m\u001b[0m\u001b[1;33m\u001b[0m\u001b[0m\n\u001b[0;32m      5\u001b[0m \u001b[0max\u001b[0m \u001b[1;33m=\u001b[0m \u001b[0mfig\u001b[0m\u001b[1;33m.\u001b[0m\u001b[0madd_subplot\u001b[0m\u001b[1;33m(\u001b[0m\u001b[1;36m111\u001b[0m\u001b[1;33m)\u001b[0m\u001b[1;33m\u001b[0m\u001b[1;33m\u001b[0m\u001b[0m\n",
      "\u001b[1;32m<ipython-input-25-f8c5c6bd1f4b>\u001b[0m in \u001b[0;36mget_image_set\u001b[1;34m(image_prefix)\u001b[0m\n\u001b[0;32m     12\u001b[0m \u001b[1;33m\u001b[0m\u001b[0m\n\u001b[0;32m     13\u001b[0m \u001b[1;32mdef\u001b[0m \u001b[0mget_image_set\u001b[0m\u001b[1;33m(\u001b[0m\u001b[0mimage_prefix\u001b[0m\u001b[1;33m=\u001b[0m\u001b[1;34m'all'\u001b[0m\u001b[1;33m)\u001b[0m\u001b[1;33m:\u001b[0m\u001b[1;33m\u001b[0m\u001b[1;33m\u001b[0m\u001b[0m\n\u001b[1;32m---> 14\u001b[1;33m     \u001b[0mall_images\u001b[0m \u001b[1;33m=\u001b[0m \u001b[0mdata\u001b[0m\u001b[1;33m.\u001b[0m\u001b[0mload_data\u001b[0m\u001b[1;33m(\u001b[0m\u001b[0mos\u001b[0m\u001b[1;33m.\u001b[0m\u001b[0mpath\u001b[0m\u001b[1;33m.\u001b[0m\u001b[0mjoin\u001b[0m\u001b[1;33m(\u001b[0m\u001b[0mos\u001b[0m\u001b[1;33m.\u001b[0m\u001b[0mgetcwd\u001b[0m\u001b[1;33m(\u001b[0m\u001b[1;33m)\u001b[0m\u001b[1;33m,\u001b[0m \u001b[1;34m'dataset'\u001b[0m\u001b[1;33m,\u001b[0m \u001b[1;34m'pickle_dump'\u001b[0m\u001b[1;33m,\u001b[0m \u001b[1;34m'oxford.pckl'\u001b[0m\u001b[1;33m)\u001b[0m\u001b[1;33m)\u001b[0m\u001b[1;33m\u001b[0m\u001b[1;33m\u001b[0m\u001b[0m\n\u001b[0m\u001b[0;32m     15\u001b[0m     \u001b[1;32mif\u001b[0m \u001b[0mimage_prefix\u001b[0m \u001b[1;32mis\u001b[0m \u001b[1;34m'all'\u001b[0m\u001b[1;33m:\u001b[0m\u001b[1;33m\u001b[0m\u001b[1;33m\u001b[0m\u001b[0m\n\u001b[0;32m     16\u001b[0m         \u001b[1;32mreturn\u001b[0m \u001b[0mall_images\u001b[0m\u001b[1;33m\u001b[0m\u001b[1;33m\u001b[0m\u001b[0m\n",
      "\u001b[1;32mD:\\Programming Projects\\python projects\\state-of-the-binary-descriptor\\src\\data.py\u001b[0m in \u001b[0;36mload_data\u001b[1;34m(path)\u001b[0m\n\u001b[0;32m     60\u001b[0m \u001b[1;33m\u001b[0m\u001b[0m\n\u001b[0;32m     61\u001b[0m \u001b[1;32mdef\u001b[0m \u001b[0mload_data\u001b[0m\u001b[1;33m(\u001b[0m\u001b[0mpath\u001b[0m\u001b[1;33m)\u001b[0m\u001b[1;33m:\u001b[0m\u001b[1;33m\u001b[0m\u001b[1;33m\u001b[0m\u001b[0m\n\u001b[1;32m---> 62\u001b[1;33m     \u001b[1;32mwith\u001b[0m \u001b[0mopen\u001b[0m\u001b[1;33m(\u001b[0m\u001b[0mpath\u001b[0m\u001b[1;33m,\u001b[0m \u001b[1;34m'rb'\u001b[0m\u001b[1;33m)\u001b[0m \u001b[1;32mas\u001b[0m \u001b[0mfile\u001b[0m\u001b[1;33m:\u001b[0m\u001b[1;33m\u001b[0m\u001b[1;33m\u001b[0m\u001b[0m\n\u001b[0m\u001b[0;32m     63\u001b[0m         \u001b[1;32mreturn\u001b[0m \u001b[0mpkl\u001b[0m\u001b[1;33m.\u001b[0m\u001b[0mload\u001b[0m\u001b[1;33m(\u001b[0m\u001b[0mfile\u001b[0m\u001b[1;33m)\u001b[0m\u001b[1;33m\u001b[0m\u001b[1;33m\u001b[0m\u001b[0m\n\u001b[0;32m     64\u001b[0m \u001b[1;33m\u001b[0m\u001b[0m\n",
      "\u001b[1;31mFileNotFoundError\u001b[0m: [Errno 2] No such file or directory: 'D:\\\\Programming Projects\\\\python projects\\\\dataset\\\\pickle_dump\\\\oxford.pckl'"
     ]
    }
   ],
   "source": [
    "images = get_image_set('trees')\n",
    "img = images['trees_img1']\n",
    "execution_time, keypoints_by_detector = get_exec_time_keypoints(img)\n",
    "fig = plt.figure()\n",
    "ax = fig.add_subplot(111)\n",
    "plot_data = {}\n",
    "for name in execution_time.keys():\n",
    "    total_keypoints = len(keypoints_by_detector[name])\n",
    "    plot_data[name] = [execution_time[name], total_keypoints]\n",
    "    \n",
    "fig = plt.plot()\n",
    "\n",
    "colors = ['olive', 'green', 'red', 'cyan', 'blue', 'purple', 'green', 'grey', 'orange', 'brown']\n",
    "i = 0\n",
    "for key, values in plot_data.items():\n",
    "    x, y = values\n",
    "    ax.scatter(x, y, c=colors[i], s=10, label=key)\n",
    "#     ax.annotate(key, xy=(x+0.02, y), textcoords='data')\n",
    "    i += 1\n",
    "plt.grid(True)\n",
    "plt.legend(bbox_to_anchor=(1.05, 1.0), loc=\"upper left\")\n",
    "plt.xlabel(\"Execution Time\")\n",
    "plt.ylabel(\"Number of Keypoints\")\n",
    "plt.show()\n"
   ]
  },
  {
   "cell_type": "markdown",
   "metadata": {},
   "source": [
    "#### Number of total keypoints and execution time for each detector type"
   ]
  },
  {
   "cell_type": "code",
   "execution_count": 29,
   "metadata": {
    "pycharm": {
     "name": "#%%\n"
    }
   },
   "outputs": [
    {
     "data": {
      "text/html": [
       "<style  type=\"text/css\" >\n",
       "    #T_1c6e4bae_b298_11ea_9120_7440bb255948row3_col1 {\n",
       "            : ;\n",
       "            background-color:  #d65f5f;\n",
       "        }    #T_1c6e4bae_b298_11ea_9120_7440bb255948row3_col2 {\n",
       "            background-color:  #5fba7d;\n",
       "            : ;\n",
       "        }    #T_1c6e4bae_b298_11ea_9120_7440bb255948row5_col1 {\n",
       "            background-color:  #5fba7d;\n",
       "            : ;\n",
       "        }    #T_1c6e4bae_b298_11ea_9120_7440bb255948row5_col2 {\n",
       "            : ;\n",
       "            background-color:  #d65f5f;\n",
       "        }</style><table id=\"T_1c6e4bae_b298_11ea_9120_7440bb255948\" ><thead>    <tr>        <th class=\"blank level0\" ></th>        <th class=\"col_heading level0 col0\" >Detector</th>        <th class=\"col_heading level0 col1\" >Execution Time</th>        <th class=\"col_heading level0 col2\" >Number of Keypoints</th>    </tr></thead><tbody>\n",
       "                <tr>\n",
       "                        <th id=\"T_1c6e4bae_b298_11ea_9120_7440bb255948level0_row0\" class=\"row_heading level0 row0\" >0</th>\n",
       "                        <td id=\"T_1c6e4bae_b298_11ea_9120_7440bb255948row0_col0\" class=\"data row0 col0\" >AGAST</td>\n",
       "                        <td id=\"T_1c6e4bae_b298_11ea_9120_7440bb255948row0_col1\" class=\"data row0 col1\" >0.199708</td>\n",
       "                        <td id=\"T_1c6e4bae_b298_11ea_9120_7440bb255948row0_col2\" class=\"data row0 col2\" >35028</td>\n",
       "            </tr>\n",
       "            <tr>\n",
       "                        <th id=\"T_1c6e4bae_b298_11ea_9120_7440bb255948level0_row1\" class=\"row_heading level0 row1\" >1</th>\n",
       "                        <td id=\"T_1c6e4bae_b298_11ea_9120_7440bb255948row1_col0\" class=\"data row1 col0\" >KAZE</td>\n",
       "                        <td id=\"T_1c6e4bae_b298_11ea_9120_7440bb255948row1_col1\" class=\"data row1 col1\" >0.965786</td>\n",
       "                        <td id=\"T_1c6e4bae_b298_11ea_9120_7440bb255948row1_col2\" class=\"data row1 col2\" >6996</td>\n",
       "            </tr>\n",
       "            <tr>\n",
       "                        <th id=\"T_1c6e4bae_b298_11ea_9120_7440bb255948level0_row2\" class=\"row_heading level0 row2\" >2</th>\n",
       "                        <td id=\"T_1c6e4bae_b298_11ea_9120_7440bb255948row2_col0\" class=\"data row2 col0\" >AKAZE</td>\n",
       "                        <td id=\"T_1c6e4bae_b298_11ea_9120_7440bb255948row2_col1\" class=\"data row2 col1\" >0.102707</td>\n",
       "                        <td id=\"T_1c6e4bae_b298_11ea_9120_7440bb255948row2_col2\" class=\"data row2 col2\" >6118</td>\n",
       "            </tr>\n",
       "            <tr>\n",
       "                        <th id=\"T_1c6e4bae_b298_11ea_9120_7440bb255948level0_row3\" class=\"row_heading level0 row3\" >3</th>\n",
       "                        <td id=\"T_1c6e4bae_b298_11ea_9120_7440bb255948row3_col0\" class=\"data row3 col0\" >FAST</td>\n",
       "                        <td id=\"T_1c6e4bae_b298_11ea_9120_7440bb255948row3_col1\" class=\"data row3 col1\" >0.010973</td>\n",
       "                        <td id=\"T_1c6e4bae_b298_11ea_9120_7440bb255948row3_col2\" class=\"data row3 col2\" >37850</td>\n",
       "            </tr>\n",
       "            <tr>\n",
       "                        <th id=\"T_1c6e4bae_b298_11ea_9120_7440bb255948level0_row4\" class=\"row_heading level0 row4\" >4</th>\n",
       "                        <td id=\"T_1c6e4bae_b298_11ea_9120_7440bb255948row4_col0\" class=\"data row4 col0\" >BRISK</td>\n",
       "                        <td id=\"T_1c6e4bae_b298_11ea_9120_7440bb255948row4_col1\" class=\"data row4 col1\" >0.333075</td>\n",
       "                        <td id=\"T_1c6e4bae_b298_11ea_9120_7440bb255948row4_col2\" class=\"data row4 col2\" >24988</td>\n",
       "            </tr>\n",
       "            <tr>\n",
       "                        <th id=\"T_1c6e4bae_b298_11ea_9120_7440bb255948level0_row5\" class=\"row_heading level0 row5\" >5</th>\n",
       "                        <td id=\"T_1c6e4bae_b298_11ea_9120_7440bb255948row5_col0\" class=\"data row5 col0\" >ORB</td>\n",
       "                        <td id=\"T_1c6e4bae_b298_11ea_9120_7440bb255948row5_col1\" class=\"data row5 col1\" >1.180694</td>\n",
       "                        <td id=\"T_1c6e4bae_b298_11ea_9120_7440bb255948row5_col2\" class=\"data row5 col2\" >500</td>\n",
       "            </tr>\n",
       "            <tr>\n",
       "                        <th id=\"T_1c6e4bae_b298_11ea_9120_7440bb255948level0_row6\" class=\"row_heading level0 row6\" >6</th>\n",
       "                        <td id=\"T_1c6e4bae_b298_11ea_9120_7440bb255948row6_col0\" class=\"data row6 col0\" >GFTT</td>\n",
       "                        <td id=\"T_1c6e4bae_b298_11ea_9120_7440bb255948row6_col1\" class=\"data row6 col1\" >0.227553</td>\n",
       "                        <td id=\"T_1c6e4bae_b298_11ea_9120_7440bb255948row6_col2\" class=\"data row6 col2\" >1000</td>\n",
       "            </tr>\n",
       "            <tr>\n",
       "                        <th id=\"T_1c6e4bae_b298_11ea_9120_7440bb255948level0_row7\" class=\"row_heading level0 row7\" >7</th>\n",
       "                        <td id=\"T_1c6e4bae_b298_11ea_9120_7440bb255948row7_col0\" class=\"data row7 col0\" >HarrisLaplace</td>\n",
       "                        <td id=\"T_1c6e4bae_b298_11ea_9120_7440bb255948row7_col1\" class=\"data row7 col1\" >0.925848</td>\n",
       "                        <td id=\"T_1c6e4bae_b298_11ea_9120_7440bb255948row7_col2\" class=\"data row7 col2\" >5000</td>\n",
       "            </tr>\n",
       "            <tr>\n",
       "                        <th id=\"T_1c6e4bae_b298_11ea_9120_7440bb255948level0_row8\" class=\"row_heading level0 row8\" >8</th>\n",
       "                        <td id=\"T_1c6e4bae_b298_11ea_9120_7440bb255948row8_col0\" class=\"data row8 col0\" >StarDetector</td>\n",
       "                        <td id=\"T_1c6e4bae_b298_11ea_9120_7440bb255948row8_col1\" class=\"data row8 col1\" >0.020429</td>\n",
       "                        <td id=\"T_1c6e4bae_b298_11ea_9120_7440bb255948row8_col2\" class=\"data row8 col2\" >2539</td>\n",
       "            </tr>\n",
       "    </tbody></table>"
      ],
      "text/plain": [
       "<pandas.io.formats.style.Styler at 0x1e929fd9a20>"
      ]
     },
     "execution_count": 29,
     "metadata": {},
     "output_type": "execute_result"
    }
   ],
   "source": [
    "df = pd.DataFrame() \n",
    "df['Detector'] = plot_data.keys()\n",
    "df['Execution Time'] = [values[0] for values in plot_data.values()]\n",
    "df['Number of Keypoints'] = [values[1] for values in plot_data.values()]\n",
    "# df=df.sort_values(by=['Execution Time'])\n",
    "df.style.\\\n",
    "    apply(highlight_max, subset=['Execution Time', 'Number of Keypoints']).\\\n",
    "    apply(highlight_min, subset=['Execution Time', 'Number of Keypoints'])"
   ]
  },
  {
   "cell_type": "markdown",
   "metadata": {},
   "source": [
    "#### Gradual blurring"
   ]
  },
  {
   "cell_type": "code",
   "execution_count": 30,
   "metadata": {
    "pycharm": {
     "name": "#%%\n"
    }
   },
   "outputs": [
    {
     "ename": "FileNotFoundError",
     "evalue": "[Errno 2] No such file or directory: 'D:\\\\Programming Projects\\\\python projects\\\\dataset\\\\pickle_dump\\\\oxford.pckl'",
     "output_type": "error",
     "traceback": [
      "\u001b[1;31m---------------------------------------------------------------------------\u001b[0m",
      "\u001b[1;31mFileNotFoundError\u001b[0m                         Traceback (most recent call last)",
      "\u001b[1;32m<ipython-input-30-aaae208e515c>\u001b[0m in \u001b[0;36m<module>\u001b[1;34m\u001b[0m\n\u001b[1;32m----> 1\u001b[1;33m \u001b[0mimage_set\u001b[0m \u001b[1;33m=\u001b[0m \u001b[0mget_image_set\u001b[0m\u001b[1;33m(\u001b[0m\u001b[1;34m'trees'\u001b[0m\u001b[1;33m)\u001b[0m\u001b[1;33m\u001b[0m\u001b[1;33m\u001b[0m\u001b[0m\n\u001b[0m\u001b[0;32m      2\u001b[0m \u001b[0mfig\u001b[0m\u001b[1;33m,\u001b[0m \u001b[0maxs\u001b[0m \u001b[1;33m=\u001b[0m \u001b[0mplt\u001b[0m\u001b[1;33m.\u001b[0m\u001b[0msubplots\u001b[0m\u001b[1;33m(\u001b[0m\u001b[1;36m1\u001b[0m\u001b[1;33m,\u001b[0m \u001b[1;36m2\u001b[0m\u001b[1;33m,\u001b[0m \u001b[0mfigsize\u001b[0m\u001b[1;33m=\u001b[0m\u001b[1;33m(\u001b[0m\u001b[1;36m12\u001b[0m\u001b[1;33m,\u001b[0m\u001b[1;36m4\u001b[0m\u001b[1;33m)\u001b[0m\u001b[1;33m,\u001b[0m \u001b[0mdpi\u001b[0m\u001b[1;33m=\u001b[0m\u001b[1;36m1200\u001b[0m\u001b[1;33m)\u001b[0m\u001b[1;33m\u001b[0m\u001b[1;33m\u001b[0m\u001b[0m\n\u001b[0;32m      3\u001b[0m \u001b[1;33m\u001b[0m\u001b[0m\n\u001b[0;32m      4\u001b[0m \u001b[1;32mfor\u001b[0m \u001b[0mdetector_name\u001b[0m \u001b[1;32min\u001b[0m \u001b[0mdd\u001b[0m\u001b[1;33m.\u001b[0m\u001b[0mget_all_detectors\u001b[0m\u001b[1;33m(\u001b[0m\u001b[1;33m)\u001b[0m\u001b[1;33m.\u001b[0m\u001b[0mkeys\u001b[0m\u001b[1;33m(\u001b[0m\u001b[1;33m)\u001b[0m\u001b[1;33m:\u001b[0m\u001b[1;33m\u001b[0m\u001b[1;33m\u001b[0m\u001b[0m\n\u001b[0;32m      5\u001b[0m     \u001b[0mexecution_time\u001b[0m\u001b[1;33m,\u001b[0m \u001b[0mtotal_keypoints\u001b[0m \u001b[1;33m=\u001b[0m \u001b[0mget_exec_time_keypoints_det\u001b[0m\u001b[1;33m(\u001b[0m\u001b[0mimage_set\u001b[0m\u001b[1;33m,\u001b[0m \u001b[0mdetector_name\u001b[0m\u001b[1;33m)\u001b[0m\u001b[1;33m\u001b[0m\u001b[1;33m\u001b[0m\u001b[0m\n",
      "\u001b[1;32m<ipython-input-25-f8c5c6bd1f4b>\u001b[0m in \u001b[0;36mget_image_set\u001b[1;34m(image_prefix)\u001b[0m\n\u001b[0;32m     12\u001b[0m \u001b[1;33m\u001b[0m\u001b[0m\n\u001b[0;32m     13\u001b[0m \u001b[1;32mdef\u001b[0m \u001b[0mget_image_set\u001b[0m\u001b[1;33m(\u001b[0m\u001b[0mimage_prefix\u001b[0m\u001b[1;33m=\u001b[0m\u001b[1;34m'all'\u001b[0m\u001b[1;33m)\u001b[0m\u001b[1;33m:\u001b[0m\u001b[1;33m\u001b[0m\u001b[1;33m\u001b[0m\u001b[0m\n\u001b[1;32m---> 14\u001b[1;33m     \u001b[0mall_images\u001b[0m \u001b[1;33m=\u001b[0m \u001b[0mdata\u001b[0m\u001b[1;33m.\u001b[0m\u001b[0mload_data\u001b[0m\u001b[1;33m(\u001b[0m\u001b[0mos\u001b[0m\u001b[1;33m.\u001b[0m\u001b[0mpath\u001b[0m\u001b[1;33m.\u001b[0m\u001b[0mjoin\u001b[0m\u001b[1;33m(\u001b[0m\u001b[0mos\u001b[0m\u001b[1;33m.\u001b[0m\u001b[0mgetcwd\u001b[0m\u001b[1;33m(\u001b[0m\u001b[1;33m)\u001b[0m\u001b[1;33m,\u001b[0m \u001b[1;34m'dataset'\u001b[0m\u001b[1;33m,\u001b[0m \u001b[1;34m'pickle_dump'\u001b[0m\u001b[1;33m,\u001b[0m \u001b[1;34m'oxford.pckl'\u001b[0m\u001b[1;33m)\u001b[0m\u001b[1;33m)\u001b[0m\u001b[1;33m\u001b[0m\u001b[1;33m\u001b[0m\u001b[0m\n\u001b[0m\u001b[0;32m     15\u001b[0m     \u001b[1;32mif\u001b[0m \u001b[0mimage_prefix\u001b[0m \u001b[1;32mis\u001b[0m \u001b[1;34m'all'\u001b[0m\u001b[1;33m:\u001b[0m\u001b[1;33m\u001b[0m\u001b[1;33m\u001b[0m\u001b[0m\n\u001b[0;32m     16\u001b[0m         \u001b[1;32mreturn\u001b[0m \u001b[0mall_images\u001b[0m\u001b[1;33m\u001b[0m\u001b[1;33m\u001b[0m\u001b[0m\n",
      "\u001b[1;32mD:\\Programming Projects\\python projects\\state-of-the-binary-descriptor\\src\\data.py\u001b[0m in \u001b[0;36mload_data\u001b[1;34m(path)\u001b[0m\n\u001b[0;32m     60\u001b[0m \u001b[1;33m\u001b[0m\u001b[0m\n\u001b[0;32m     61\u001b[0m \u001b[1;32mdef\u001b[0m \u001b[0mload_data\u001b[0m\u001b[1;33m(\u001b[0m\u001b[0mpath\u001b[0m\u001b[1;33m)\u001b[0m\u001b[1;33m:\u001b[0m\u001b[1;33m\u001b[0m\u001b[1;33m\u001b[0m\u001b[0m\n\u001b[1;32m---> 62\u001b[1;33m     \u001b[1;32mwith\u001b[0m \u001b[0mopen\u001b[0m\u001b[1;33m(\u001b[0m\u001b[0mpath\u001b[0m\u001b[1;33m,\u001b[0m \u001b[1;34m'rb'\u001b[0m\u001b[1;33m)\u001b[0m \u001b[1;32mas\u001b[0m \u001b[0mfile\u001b[0m\u001b[1;33m:\u001b[0m\u001b[1;33m\u001b[0m\u001b[1;33m\u001b[0m\u001b[0m\n\u001b[0m\u001b[0;32m     63\u001b[0m         \u001b[1;32mreturn\u001b[0m \u001b[0mpkl\u001b[0m\u001b[1;33m.\u001b[0m\u001b[0mload\u001b[0m\u001b[1;33m(\u001b[0m\u001b[0mfile\u001b[0m\u001b[1;33m)\u001b[0m\u001b[1;33m\u001b[0m\u001b[1;33m\u001b[0m\u001b[0m\n\u001b[0;32m     64\u001b[0m \u001b[1;33m\u001b[0m\u001b[0m\n",
      "\u001b[1;31mFileNotFoundError\u001b[0m: [Errno 2] No such file or directory: 'D:\\\\Programming Projects\\\\python projects\\\\dataset\\\\pickle_dump\\\\oxford.pckl'"
     ]
    }
   ],
   "source": [
    "image_set = get_image_set('trees')\n",
    "fig, axs = plt.subplots(1, 2, figsize=(12,4), dpi=1200)\n",
    "\n",
    "for detector_name in dd.get_all_detectors().keys():    \n",
    "    execution_time, total_keypoints = get_exec_time_keypoints_det(image_set, detector_name)\n",
    "#     print(execution_time)\n",
    "    axs[0].plot(list(execution_time.keys()), list(execution_time.values()), label=detector_name)\n",
    "    axs[1].plot(list(total_keypoints.keys()), [len(value) for value in total_keypoints.values()], label=detector_name)\n",
    "axs[0].legend(loc=\"upper center\",bbox_to_anchor=(0.5, -0.15), ncol=3)\n",
    "axs[0].set_xlabel(\"Image blur\")\n",
    "axs[0].set_ylabel(\"Execution Time\")\n",
    "# axs[0].set_yscale('log')\n",
    "\n",
    "\n",
    "axs[1].legend(loc=\"upper center\",bbox_to_anchor=(0.5, -0.15), ncol=3)\n",
    "axs[1].set_xlabel(\"Image blur\")\n",
    "axs[1].set_ylabel(\"Number of Keypoints\")\n",
    "# axs[1].set_yscale('log')\n",
    "\n",
    "plt.show()"
   ]
  },
  {
   "cell_type": "markdown",
   "metadata": {},
   "source": [
    "#### Gradual darkenning\n",
    "__Todo__\n",
    "\n",
    "- [ ] Change to bar plot\n",
    "- [ ] Ask in stackoverflow about this checkbox problem"
   ]
  },
  {
   "cell_type": "code",
   "execution_count": null,
   "metadata": {
    "pycharm": {
     "name": "#%%\n"
    }
   },
   "outputs": [],
   "source": [
    "image_set = get_image_set('leuven')\n",
    "fig, axs = plt.subplots(1, 2, figsize=(12,4), dpi=1200)\n",
    "\n",
    "for detector_name in dd.get_all_detectors().keys():    \n",
    "    execution_time, total_keypoints = get_exec_time_keypoints_det(image_set, detector_name)\n",
    "#     print(execution_time)\n",
    "    axs[0].plot(list(execution_time.keys()), list(execution_time.values()), label=detector_name)\n",
    "    axs[1].plot(list(total_keypoints.keys()), [len(value) for value in total_keypoints.values()], label=detector_name)\n",
    "axs[0].legend(loc=\"upper center\",bbox_to_anchor=(0.5, -0.15), ncol=3)\n",
    "axs[0].set_xlabel(\"Image darken\")\n",
    "axs[0].set_ylabel(\"Execution Time\")\n",
    "# axs[0].set_yscale('log')\n",
    "\n",
    "\n",
    "axs[1].legend(loc=\"upper center\",bbox_to_anchor=(0.5, -0.15), ncol=3)\n",
    "axs[1].set_xlabel(\"Image darken\")\n",
    "axs[1].set_ylabel(\"Number of Keypoints\")\n",
    "# axs[1].set_yscale('log')\n",
    "\n",
    "plt.show()"
   ]
  },
  {
   "cell_type": "markdown",
   "metadata": {},
   "source": [
    "#### Use set to find the intersection of the keypoints to the union"
   ]
  },
  {
   "cell_type": "code",
   "execution_count": null,
   "metadata": {
    "pycharm": {
     "name": "#%%\n"
    }
   },
   "outputs": [],
   "source": [
    "\n",
    "image_set = get_image_set('bikes')\n",
    "image = image_set['bikes_img1']\n",
    "\n",
    "execution_time, total_keypoints = get_exec_time_keypoints(image)\n",
    "union_keypoints = set()\n",
    "union_keypoints.update(*total_keypoints.values())\n",
    "# union_keypoints = *union_keypoints.pt\n",
    "# print(len(all_keypoints))"
   ]
  },
  {
   "cell_type": "markdown",
   "metadata": {},
   "source": [
    "__TODO__\n",
    "- [ ] Find intersection\n",
    "- [ ] Graph frequncy in seaborn\n",
    "- [ ] List to numpy"
   ]
  },
  {
   "cell_type": "code",
   "execution_count": null,
   "metadata": {
    "pycharm": {
     "name": "#%%\n"
    }
   },
   "outputs": [],
   "source": [
    "from itertools import chain\n",
    "# def kp_obj2np(all_keypoints):\n",
    "#     kp_np = dict()\n",
    "#     for detector, keypoints in all_keypoints.items():\n",
    "#         keypoints_to_list = list()\n",
    "#         for keypoint in keypoints:\n",
    "#             pt = (round(keypoint.pt[0]), round(keypoint.pt[1]))\n",
    "#             keypoints_to_list.append(pt)\n",
    "#         kp_np[detector] = np.array(keypoints_to_list)\n",
    "#         # keypoints_to_list.clear()\n",
    "#     return kp_np\n",
    "kp_np = data.kp_obj2np(total_keypoints)\n",
    "kp_all = np.array(list(chain(*[value.tolist() for value in kp_np.values()])))\n",
    "kp_all = np.unique(kp_all, axis=0)\n",
    "# b = list(chain(*[value.tolist() for value in kp_np.values()]))\n",
    "# a = set([tuple(el) for el in b])\n",
    "# a.update(b)\n",
    "# print(len(a))\n",
    "print(kp_all.shape)\n",
    "# print(union_keypoints)"
   ]
  },
  {
   "cell_type": "code",
   "execution_count": null,
   "metadata": {
    "pycharm": {
     "name": "#%%\n"
    }
   },
   "outputs": [],
   "source": [
    "# keypoint_list = list(union_keypoints)\n",
    "# print(keypoint_list )\n",
    "point_freq = np.zeros((kp_all.shape[0],1))\n",
    "for i in range(0, kp_all.shape[0]):\n",
    "    for detector in dd.get_all_detectors().keys():\n",
    "        if kp_all[i] in kp_np[detector]:\n",
    "            point_freq[i] += 1\n",
    "print(point_freq)"
   ]
  },
  {
   "cell_type": "code",
   "execution_count": null,
   "metadata": {},
   "outputs": [],
   "source": [
    "kp = np.hstack((kp_all, point_freq))\n",
    "print(kp)\n",
    "# plt.imshow(image)\n",
    "# plt.show()"
   ]
  },
  {
   "cell_type": "code",
   "execution_count": null,
   "metadata": {},
   "outputs": [],
   "source": [
    "max(point_freq)"
   ]
  },
  {
   "cell_type": "code",
   "execution_count": null,
   "metadata": {},
   "outputs": [],
   "source": [
    "# plt.plot(range(0, len(point_freq)), point_freq)\n",
    "# sns.relplot(x=\"total_bill\", y=\"tip\", data=[range(0, len(point_freq)), point_freq])\n",
    "sns.set()\n",
    "plt.scatter([x for (x,y) in keypoint_list], [700-y for (x,y) in keypoint_list], s=point_freq)\n",
    "plt.show()"
   ]
  },
  {
   "cell_type": "code",
   "execution_count": null,
   "metadata": {
    "pycharm": {
     "name": "#%%\n"
    }
   },
   "outputs": [],
   "source": [
    "intersection_keypoints = union_keypoints\n",
    "for detector_name, keypoints in total_keypoints.items():\n",
    "    print(detector_name)\n",
    "    keypoints = set()\n",
    "    keypoints.update(total_keypoints[detector_name])\n",
    "    intersection_keypoints.intersection_update(keypoints)\n",
    "    keypoints.clear()\n",
    "print(len(intersection_keypoints))"
   ]
  },
  {
   "cell_type": "code",
   "execution_count": null,
   "metadata": {
    "pycharm": {
     "name": "#%%\n"
    }
   },
   "outputs": [],
   "source": [
    "def get_exec_time_keypoints(img):\n",
    "    keypoints_by_detector = dict()\n",
    "    execution_time = dict()\n",
    "    all_detectors = dd.get_all_detectors()\n",
    "\n",
    "    for name, _ in all_detectors.items():\n",
    "        detector = dd.initialize_detector(name)\n",
    "        start_time = default_timer()\n",
    "        keypoints = detector.detect(img)\n",
    "        execution_time[name] = default_timer() - start_time\n",
    "        keypoints_by_detector[name] = keypoints\n",
    "    return execution_time, keypoints_by_detector"
   ]
  },
  {
   "cell_type": "markdown",
   "metadata": {},
   "source": [
    "#### Visualize average total number of keypoints vs average execution time for corresponding detectors for a certain image set"
   ]
  },
  {
   "cell_type": "code",
   "execution_count": null,
   "metadata": {
    "pycharm": {
     "name": "#%%\n"
    }
   },
   "outputs": [],
   "source": [
    "image_set = get_image_set('trees')\n",
    "avg_execution_time, avg_total_keypoints = get_avg_exec_time_total_kp(image_set)"
   ]
  },
  {
   "cell_type": "code",
   "execution_count": null,
   "metadata": {
    "pycharm": {
     "name": "#%%\n"
    }
   },
   "outputs": [],
   "source": [
    "fig = plt.figure()\n",
    "ax = fig.add_subplot(111)\n",
    "plot_data = {}\n",
    "for name in avg_execution_time.keys():\n",
    "#     total_keypoints = len(keypoints_by_detector[name])\n",
    "    plot_data[name] = [avg_execution_time[name], avg_total_keypoints[name]]\n",
    "    \n",
    "fig = plt.plot()\n",
    "\n",
    "colors = ['olive', 'green', 'red', 'cyan', 'blue', 'purple', 'green', 'grey', 'orange', 'brown']\n",
    "i = 0\n",
    "for key, values in plot_data.items():\n",
    "    x, y = values\n",
    "    ax.scatter(x, y, c=colors[i], s=10, label=key)\n",
    "#     ax.annotate(key, xy=(x+0.02, y), textcoords='data')\n",
    "    i += 1\n",
    "plt.grid(True)\n",
    "plt.legend(bbox_to_anchor=(1.05, 1.0), loc=\"upper left\")\n",
    "plt.xlabel(\"Execution Time\")\n",
    "plt.ylabel(\"Number of Keypoints\")\n",
    "plt.show()"
   ]
  },
  {
   "cell_type": "code",
   "execution_count": null,
   "metadata": {
    "pycharm": {
     "name": "#%%\n"
    }
   },
   "outputs": [],
   "source": [
    "df = pd.DataFrame() \n",
    "df['Detector'] = plot_data.keys()\n",
    "df['Execution Time'] = [values[0] for values in plot_data.values()]\n",
    "df['Number of Keypoints'] = [values[1] for values in plot_data.values()]\n",
    "# df=df.sort_values(by=['Execution Time'])\n",
    "df.style.\\\n",
    "    apply(highlight_max, subset=['Execution Time', 'Number of Keypoints']).\\\n",
    "    apply(highlight_min, subset=['Execution Time', 'Number of Keypoints'])"
   ]
  },
  {
   "cell_type": "code",
   "execution_count": null,
   "metadata": {
    "pycharm": {
     "name": "#%%\n"
    }
   },
   "outputs": [],
   "source": [
    "fig, axs = plt.subplots(3, 3, figsize=(15,10))\n",
    "i = 0\n",
    "for key, values in key_points_by_detector.items():\n",
    "    pts = np.asarray([[p.pt[0], p.pt[1]] for p in values])\n",
    "    x = pts[:,0]\n",
    "    y = pts[:,1]\n",
    "    axs[i//3, i%3].set_title(key)\n",
    "    axs[i//3, i%3].imshow(img)\n",
    "    axs[i//3, i%3].scatter(x, y, c='r', s=2)\n",
    "    i += 1\n",
    "plt.show()"
   ]
  }
 ],
 "metadata": {
  "kernelspec": {
   "display_name": "Python 3",
   "language": "python",
   "name": "python3"
  },
  "language_info": {
   "codemirror_mode": {
    "name": "ipython",
    "version": 3
   },
   "file_extension": ".py",
   "mimetype": "text/x-python",
   "name": "python",
   "nbconvert_exporter": "python",
   "pygments_lexer": "ipython3",
   "version": "3.7.3"
  }
 },
 "nbformat": 4,
 "nbformat_minor": 1
}
